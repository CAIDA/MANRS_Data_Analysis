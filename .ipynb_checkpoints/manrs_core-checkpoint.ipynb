{
 "cells": [
  {
   "cell_type": "code",
   "execution_count": 77,
   "id": "bcf5f5b1",
   "metadata": {},
   "outputs": [],
   "source": [
    "import requests\n",
    "from collections import defaultdict\n",
    "import bz2, gzip"
   ]
  },
  {
   "cell_type": "markdown",
   "id": "428599da",
   "metadata": {},
   "source": [
    "## Download MANRS ISP list"
   ]
  },
  {
   "cell_type": "code",
   "execution_count": 219,
   "id": "c7d296bd",
   "metadata": {},
   "outputs": [],
   "source": [
    "response = requests.get('https://www.manrs.org/wp-json/manrs/v1/csv/4')"
   ]
  },
  {
   "cell_type": "code",
   "execution_count": 223,
   "id": "ba4bc41f",
   "metadata": {},
   "outputs": [],
   "source": [
    "manrs = set()\n",
    "manrs_org = {}\n",
    "for line in response.text.split('\\n'):\n",
    "    data = line.strip().split(',')\n",
    "    if len(data) < 7:\n",
    "        continue\n",
    "    asns = data[2].split(';')\n",
    "    for i in asns:\n",
    "        try:\n",
    "            manrs.add(int(i))\n",
    "            manrs_org[int(i)] = data[0]\n",
    "        except:\n",
    "            pass"
   ]
  },
  {
   "cell_type": "code",
   "execution_count": 224,
   "id": "cee1523b",
   "metadata": {},
   "outputs": [
    {
     "name": "stdout",
     "output_type": "stream",
     "text": [
      "number of MANRS 669\n"
     ]
    }
   ],
   "source": [
    "print('number of MANRS', len(response.text.split('\\n')))"
   ]
  },
  {
   "cell_type": "code",
   "execution_count": 225,
   "id": "44180946",
   "metadata": {},
   "outputs": [
    {
     "name": "stdout",
     "output_type": "stream",
     "text": [
      "number of MANRS ASes 846\n"
     ]
    }
   ],
   "source": [
    "print('number of MANRS ASes', len(manrs))"
   ]
  },
  {
   "cell_type": "markdown",
   "id": "727c3950",
   "metadata": {},
   "source": [
    "## Parse AS-Relationship\n",
    "\n",
    "Download from CAIDA https://www.caida.org/catalog/datasets/as-relationships/"
   ]
  },
  {
   "cell_type": "code",
   "execution_count": 226,
   "id": "68e7e549",
   "metadata": {},
   "outputs": [],
   "source": [
    "path = '20220401.as-rel.txt'\n",
    "as_rel = defaultdict(lambda: defaultdict(set))\n",
    "topAS = set()\n",
    "with open(path, 'rt') as file:\n",
    "    for line in file:\n",
    "        if line.startswith('# input clique'):\n",
    "            data = line.split(' ')\n",
    "            for i in data[3:]:\n",
    "                topAS.add(int(i))\n",
    "        if line.startswith('#'):\n",
    "            continue\n",
    "        data = line.strip().split('|')\n",
    "        AS1 = data[0]\n",
    "        AS2 = data[1]\n",
    "        rel = data[2]\n",
    "        if rel == '0':\n",
    "            as_rel[AS1]['peer'].add(AS2)\n",
    "            as_rel[AS2]['peer'].add(AS1)\n",
    "        elif rel == '1':\n",
    "            as_rel[AS1]['provider'].add(AS2)\n",
    "            as_rel[AS2]['customer'].add(AS1)\n",
    "        elif rel == '-1':\n",
    "            as_rel[AS1]['customer'].add(AS2)\n",
    "            as_rel[AS2]['provider'].add(AS1)"
   ]
  },
  {
   "cell_type": "code",
   "execution_count": 234,
   "id": "4a21581c",
   "metadata": {},
   "outputs": [
    {
     "data": {
      "text/plain": [
       "{174, 286, 1299, 2914, 3356, 5511, 6461}"
      ]
     },
     "execution_count": 234,
     "metadata": {},
     "output_type": "execute_result"
    }
   ],
   "source": [
    "topAS ##peering clique at the top of AS hierarchy"
   ]
  },
  {
   "cell_type": "markdown",
   "id": "82d15827",
   "metadata": {},
   "source": [
    "## find the manrs core"
   ]
  },
  {
   "cell_type": "markdown",
   "id": "7a6865cb",
   "metadata": {},
   "source": [
    "### find the peering clique at the top of AS hierarchy that are MANRS ASes"
   ]
  },
  {
   "cell_type": "code",
   "execution_count": 228,
   "id": "eacd1972",
   "metadata": {},
   "outputs": [],
   "source": [
    "manrs_root = set()\n",
    "for i in topAS:\n",
    "    if i in manrs:\n",
    "        manrs_root.add(i)"
   ]
  },
  {
   "cell_type": "markdown",
   "id": "f3bb0614",
   "metadata": {},
   "source": [
    "### find the customers of the manrs root\n",
    "\n",
    "recursively look for customers"
   ]
  },
  {
   "cell_type": "markdown",
   "id": "9d778300",
   "metadata": {},
   "source": [
    "#### strict mode: for multi-homed customers, all providers must be in MANRS"
   ]
  },
  {
   "cell_type": "code",
   "execution_count": 188,
   "id": "b609380d",
   "metadata": {},
   "outputs": [],
   "source": [
    "def check_multihome(asn):\n",
    "    for i in as_rel[asn]['provider']:\n",
    "        if int(i) not in manrs:\n",
    "            return False\n",
    "    return True"
   ]
  },
  {
   "cell_type": "code",
   "execution_count": 209,
   "id": "daa7171c",
   "metadata": {},
   "outputs": [],
   "source": [
    "def recur_manrs_customers_multihome(tc,asn):\n",
    "    for i in as_rel[str(asn)]['customer']:\n",
    "        if i in tc or int(i) not in manrs:\n",
    "            continue\n",
    "        elif check_multihome(str(i)):\n",
    "            tc.add(i)\n",
    "            recur_manrs_customers_multihome(tc,i)"
   ]
  },
  {
   "cell_type": "code",
   "execution_count": 231,
   "id": "a2b47d4e",
   "metadata": {},
   "outputs": [],
   "source": [
    "manrs_core_strict = set()\n",
    "for i in manrs_root:\n",
    "    recur_manrs_customers_multihome(manrs_core_strict, i)\n",
    "    manrs_core_strict.add(i)"
   ]
  },
  {
   "cell_type": "code",
   "execution_count": 233,
   "id": "e82d1b92",
   "metadata": {},
   "outputs": [
    {
     "name": "stdout",
     "output_type": "stream",
     "text": [
      "# of MANRS core ASes where all providers of any AS are in MANRS:  85\n"
     ]
    }
   ],
   "source": [
    "print('# of MANRS core ASes where all providers of any AS are in MANRS: ', len(manrs_core_strict))"
   ]
  },
  {
   "cell_type": "code",
   "execution_count": 244,
   "id": "311898b1",
   "metadata": {},
   "outputs": [],
   "source": [
    "manrs_core_strict_org = set()\n",
    "for i in manrs_core_strict:\n",
    "    manrs_core_strict_org.add(manrs_org[int(i)])"
   ]
  },
  {
   "cell_type": "code",
   "execution_count": 245,
   "id": "1237dd15",
   "metadata": {},
   "outputs": [
    {
     "name": "stdout",
     "output_type": "stream",
     "text": [
      "# of MANRS core_strict organizations:  59\n"
     ]
    }
   ],
   "source": [
    "print('# of MANRS core_strict organizations: ', len(manrs_core_strict_org))"
   ]
  },
  {
   "cell_type": "markdown",
   "id": "e52d1e5f",
   "metadata": {},
   "source": [
    "#### relaxed mode: all customers "
   ]
  },
  {
   "cell_type": "code",
   "execution_count": 198,
   "id": "3fb1b021",
   "metadata": {},
   "outputs": [],
   "source": [
    "def recur_manrs_customers(tc,asn):\n",
    "    for i in as_rel[str(asn)]['customer']:\n",
    "        if i in tc or int(i) not in manrs:\n",
    "            continue\n",
    "        else:\n",
    "            tc.add(i)\n",
    "            recur_manrs_customers(tc,i)"
   ]
  },
  {
   "cell_type": "code",
   "execution_count": 229,
   "id": "2fbe9952",
   "metadata": {},
   "outputs": [],
   "source": [
    "manrs_core = set()\n",
    "for i in manrs_root:\n",
    "    recur_manrs_customers(manrs_core, i)\n",
    "    manrs_core.add(i)"
   ]
  },
  {
   "cell_type": "code",
   "execution_count": 236,
   "id": "982db2c5",
   "metadata": {},
   "outputs": [
    {
     "name": "stdout",
     "output_type": "stream",
     "text": [
      "# of MANRS core ASes:  510\n"
     ]
    }
   ],
   "source": [
    "print('# of MANRS core ASes: ', len(manrs_core))"
   ]
  },
  {
   "cell_type": "code",
   "execution_count": 242,
   "id": "725ee952",
   "metadata": {},
   "outputs": [],
   "source": [
    "manrs_core_org = set()\n",
    "for i in manrs_core:\n",
    "    manrs_core_org.add(manrs_org[int(i)])"
   ]
  },
  {
   "cell_type": "code",
   "execution_count": 243,
   "id": "12b05fef",
   "metadata": {},
   "outputs": [
    {
     "name": "stdout",
     "output_type": "stream",
     "text": [
      "# of MANRS core organizations:  398\n"
     ]
    }
   ],
   "source": [
    "print('# of MANRS core organizations: ', len(manrs_core_org))"
   ]
  },
  {
   "cell_type": "markdown",
   "id": "53c92605",
   "metadata": {},
   "source": [
    "## all other ASes that connect to the MANRS core (strict)"
   ]
  },
  {
   "cell_type": "code",
   "execution_count": 238,
   "id": "879d10bd",
   "metadata": {},
   "outputs": [],
   "source": [
    "def recur_customers(tc,asn):\n",
    "    for i in as_rel[str(asn)]['customer']:\n",
    "        if i in tc:\n",
    "            continue\n",
    "        else:\n",
    "            tc.add(i)"
   ]
  },
  {
   "cell_type": "code",
   "execution_count": 267,
   "id": "feb1619e",
   "metadata": {},
   "outputs": [],
   "source": [
    "connected_manrs_core = set()\n",
    "for i in manrs_core_strict:\n",
    "    recur_customers(connected_manrs_core, i)"
   ]
  },
  {
   "cell_type": "markdown",
   "id": "34c078a4",
   "metadata": {},
   "source": [
    "### Download as2org dataset from CAIDA\n",
    "\n",
    "https://www.caida.org/catalog/datasets/as-organizations/"
   ]
  },
  {
   "cell_type": "code",
   "execution_count": 250,
   "id": "2434a87e",
   "metadata": {},
   "outputs": [],
   "source": [
    "path = '20220401.as-org2info.txt'\n",
    "mapping = {}\n",
    "companyname = {}\n",
    "\n",
    "with open(path, 'rt') as as2org:\n",
    "    for line in as2org:\n",
    "        l = line.strip('\\n').split('|')\n",
    "        asn = None\n",
    "        if l[0].isdigit():\n",
    "            asn = l[0]\n",
    "            mapping[asn] = l[3]\n",
    "        elif len(l) == 5:\n",
    "            companyname[l[0]] = (l[2], l[3])\n",
    "    for i in mapping:\n",
    "        orgname = companyname[mapping[i]]\n",
    "        mapping[i] = orgname"
   ]
  },
  {
   "cell_type": "markdown",
   "id": "c17fc0b9",
   "metadata": {},
   "source": [
    "### Count US based ASes; Map ASes to Organizations"
   ]
  },
  {
   "cell_type": "code",
   "execution_count": 268,
   "id": "f1e993da",
   "metadata": {},
   "outputs": [],
   "source": [
    "connected_manrs_core_org = set()\n",
    "US_based = set()\n",
    "no_org_data = set()\n",
    "for i in connected_manrs_core:\n",
    "    if i not in mapping:\n",
    "        no_org_data.add(i)\n",
    "        continue\n",
    "    connected_manrs_core_org.add(mapping[i][0])\n",
    "    if mapping[i][1] == 'US':\n",
    "        US_based.add(i)"
   ]
  },
  {
   "cell_type": "code",
   "execution_count": 270,
   "id": "3e818542",
   "metadata": {},
   "outputs": [
    {
     "name": "stdout",
     "output_type": "stream",
     "text": [
      "# of ASes connected to the MANRS core:  15365\n"
     ]
    }
   ],
   "source": [
    "print('# of ASes connected to the MANRS core: ', len(connected_manrs_core))"
   ]
  },
  {
   "cell_type": "code",
   "execution_count": 272,
   "id": "0d4b8745",
   "metadata": {},
   "outputs": [
    {
     "name": "stdout",
     "output_type": "stream",
     "text": [
      "# of organizations connected to the MANRS core (strict):  13864\n"
     ]
    }
   ],
   "source": [
    "print('# of organizations connected to the MANRS core (strict): ', len(connected_manrs_core_org))"
   ]
  },
  {
   "cell_type": "code",
   "execution_count": 271,
   "id": "062fbadc",
   "metadata": {},
   "outputs": [
    {
     "name": "stdout",
     "output_type": "stream",
     "text": [
      "# of US based ASes connected to the MANRS core (strict):  8462\n"
     ]
    }
   ],
   "source": [
    "print('# of US based ASes connected to the MANRS core (strict): ', len(US_based))"
   ]
  },
  {
   "cell_type": "code",
   "execution_count": null,
   "id": "27e5b9dc",
   "metadata": {},
   "outputs": [],
   "source": []
  }
 ],
 "metadata": {
  "kernelspec": {
   "display_name": "Python 3 (ipykernel)",
   "language": "python",
   "name": "python3"
  },
  "language_info": {
   "codemirror_mode": {
    "name": "ipython",
    "version": 3
   },
   "file_extension": ".py",
   "mimetype": "text/x-python",
   "name": "python",
   "nbconvert_exporter": "python",
   "pygments_lexer": "ipython3",
   "version": "3.9.1"
  },
  "toc": {
   "base_numbering": 1,
   "nav_menu": {},
   "number_sections": true,
   "sideBar": true,
   "skip_h1_title": false,
   "title_cell": "Table of Contents",
   "title_sidebar": "Contents",
   "toc_cell": false,
   "toc_position": {},
   "toc_section_display": true,
   "toc_window_display": true
  }
 },
 "nbformat": 4,
 "nbformat_minor": 5
}
